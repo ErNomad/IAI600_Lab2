{
 "cells": [
  {
   "cell_type": "markdown",
   "id": "a3f50efc",
   "metadata": {},
   "source": [
    "## Importing necessary libraries"
   ]
  },
  {
   "cell_type": "code",
   "execution_count": 1,
   "id": "c74655f8",
   "metadata": {},
   "outputs": [],
   "source": [
    "import pandas as pd\n",
    "%matplotlib inline\n",
    "import matplotlib as mpl\n",
    "import matplotlib.pyplot as plt\n",
    "import numpy as np"
   ]
  },
  {
   "cell_type": "markdown",
   "id": "9ff22601",
   "metadata": {},
   "source": [
    "### Loading dataset"
   ]
  },
  {
   "cell_type": "code",
   "execution_count": 2,
   "id": "bc3e572e",
   "metadata": {},
   "outputs": [],
   "source": [
    "data = pd.read_csv(\"housing.csv\")"
   ]
  },
  {
   "cell_type": "markdown",
   "id": "3fbf8485",
   "metadata": {},
   "source": [
    "#### Making a copy to work with"
   ]
  },
  {
   "cell_type": "code",
   "execution_count": 3,
   "id": "a0735e41",
   "metadata": {},
   "outputs": [],
   "source": [
    "housing_data = data"
   ]
  },
  {
   "cell_type": "code",
   "execution_count": 4,
   "id": "71ded171",
   "metadata": {},
   "outputs": [
    {
     "data": {
      "text/html": [
       "<div>\n",
       "<style scoped>\n",
       "    .dataframe tbody tr th:only-of-type {\n",
       "        vertical-align: middle;\n",
       "    }\n",
       "\n",
       "    .dataframe tbody tr th {\n",
       "        vertical-align: top;\n",
       "    }\n",
       "\n",
       "    .dataframe thead th {\n",
       "        text-align: right;\n",
       "    }\n",
       "</style>\n",
       "<table border=\"1\" class=\"dataframe\">\n",
       "  <thead>\n",
       "    <tr style=\"text-align: right;\">\n",
       "      <th></th>\n",
       "      <th>longitude</th>\n",
       "      <th>latitude</th>\n",
       "      <th>housing_median_age</th>\n",
       "      <th>total_rooms</th>\n",
       "      <th>total_bedrooms</th>\n",
       "      <th>population</th>\n",
       "      <th>households</th>\n",
       "      <th>median_income</th>\n",
       "      <th>median_house_value</th>\n",
       "      <th>ocean_proximity</th>\n",
       "    </tr>\n",
       "  </thead>\n",
       "  <tbody>\n",
       "    <tr>\n",
       "      <th>0</th>\n",
       "      <td>-122.23</td>\n",
       "      <td>37.88</td>\n",
       "      <td>41.0</td>\n",
       "      <td>880.0</td>\n",
       "      <td>129.0</td>\n",
       "      <td>322.0</td>\n",
       "      <td>126.0</td>\n",
       "      <td>8.3252</td>\n",
       "      <td>452600.0</td>\n",
       "      <td>NEAR BAY</td>\n",
       "    </tr>\n",
       "    <tr>\n",
       "      <th>1</th>\n",
       "      <td>-122.22</td>\n",
       "      <td>37.86</td>\n",
       "      <td>21.0</td>\n",
       "      <td>7099.0</td>\n",
       "      <td>1106.0</td>\n",
       "      <td>2401.0</td>\n",
       "      <td>1138.0</td>\n",
       "      <td>8.3014</td>\n",
       "      <td>358500.0</td>\n",
       "      <td>NEAR BAY</td>\n",
       "    </tr>\n",
       "    <tr>\n",
       "      <th>2</th>\n",
       "      <td>-122.24</td>\n",
       "      <td>37.85</td>\n",
       "      <td>52.0</td>\n",
       "      <td>1467.0</td>\n",
       "      <td>190.0</td>\n",
       "      <td>496.0</td>\n",
       "      <td>177.0</td>\n",
       "      <td>7.2574</td>\n",
       "      <td>352100.0</td>\n",
       "      <td>NEAR BAY</td>\n",
       "    </tr>\n",
       "    <tr>\n",
       "      <th>3</th>\n",
       "      <td>-122.25</td>\n",
       "      <td>37.85</td>\n",
       "      <td>52.0</td>\n",
       "      <td>1274.0</td>\n",
       "      <td>235.0</td>\n",
       "      <td>558.0</td>\n",
       "      <td>219.0</td>\n",
       "      <td>5.6431</td>\n",
       "      <td>341300.0</td>\n",
       "      <td>NEAR BAY</td>\n",
       "    </tr>\n",
       "    <tr>\n",
       "      <th>4</th>\n",
       "      <td>-122.25</td>\n",
       "      <td>37.85</td>\n",
       "      <td>52.0</td>\n",
       "      <td>1627.0</td>\n",
       "      <td>280.0</td>\n",
       "      <td>565.0</td>\n",
       "      <td>259.0</td>\n",
       "      <td>3.8462</td>\n",
       "      <td>342200.0</td>\n",
       "      <td>NEAR BAY</td>\n",
       "    </tr>\n",
       "  </tbody>\n",
       "</table>\n",
       "</div>"
      ],
      "text/plain": [
       "   longitude  latitude  housing_median_age  total_rooms  total_bedrooms  \\\n",
       "0    -122.23     37.88                41.0        880.0           129.0   \n",
       "1    -122.22     37.86                21.0       7099.0          1106.0   \n",
       "2    -122.24     37.85                52.0       1467.0           190.0   \n",
       "3    -122.25     37.85                52.0       1274.0           235.0   \n",
       "4    -122.25     37.85                52.0       1627.0           280.0   \n",
       "\n",
       "   population  households  median_income  median_house_value ocean_proximity  \n",
       "0       322.0       126.0         8.3252            452600.0        NEAR BAY  \n",
       "1      2401.0      1138.0         8.3014            358500.0        NEAR BAY  \n",
       "2       496.0       177.0         7.2574            352100.0        NEAR BAY  \n",
       "3       558.0       219.0         5.6431            341300.0        NEAR BAY  \n",
       "4       565.0       259.0         3.8462            342200.0        NEAR BAY  "
      ]
     },
     "execution_count": 4,
     "metadata": {},
     "output_type": "execute_result"
    }
   ],
   "source": [
    "housing_data.head()"
   ]
  },
  {
   "cell_type": "markdown",
   "id": "8eb1cbab",
   "metadata": {},
   "source": [
    "#### Planting random seed to facilitate identical sampling"
   ]
  },
  {
   "cell_type": "code",
   "execution_count": 5,
   "id": "2513025d",
   "metadata": {},
   "outputs": [],
   "source": [
    "np.random.seed(42)"
   ]
  },
  {
   "cell_type": "markdown",
   "id": "d0d0deb3",
   "metadata": {},
   "source": [
    "#### Creating additional attribute to help perform stratified sampling"
   ]
  },
  {
   "cell_type": "code",
   "execution_count": 6,
   "id": "a517b937",
   "metadata": {},
   "outputs": [],
   "source": [
    "housing_data[\"income_cat\"] = pd.cut(housing_data[\"median_income\"],\n",
    "                               bins=[0., 1.5, 3.0, 4.5, 6., np.inf],\n",
    "                               labels=[1, 2, 3, 4, 5])"
   ]
  },
  {
   "cell_type": "code",
   "execution_count": 7,
   "id": "c66e5759",
   "metadata": {},
   "outputs": [],
   "source": [
    "from sklearn.model_selection import StratifiedShuffleSplit\n",
    "\n",
    "split = StratifiedShuffleSplit(n_splits=1, test_size=0.2, random_state=42)\n",
    "for train_index, test_index in split.split(housing_data, housing_data[\"income_cat\"]):\n",
    "    strat_train_set = housing_data.loc[train_index]\n",
    "    strat_test_set = housing_data.loc[test_index]"
   ]
  },
  {
   "cell_type": "code",
   "execution_count": 8,
   "id": "930966cf",
   "metadata": {},
   "outputs": [],
   "source": [
    "for set_ in (strat_train_set, strat_test_set):\n",
    "    set_.drop(\"income_cat\", axis=1, inplace=True)"
   ]
  },
  {
   "cell_type": "markdown",
   "id": "87f4dd22",
   "metadata": {},
   "source": [
    "## Train Set"
   ]
  },
  {
   "cell_type": "code",
   "execution_count": 9,
   "id": "e6363bf9",
   "metadata": {},
   "outputs": [],
   "source": [
    "housing_X_train = strat_train_set.drop(\"median_house_value\", axis=1)\n",
    "housing_y_train = strat_train_set[\"median_house_value\"].copy()"
   ]
  },
  {
   "cell_type": "markdown",
   "id": "f392e144",
   "metadata": {},
   "source": [
    "## Test Set"
   ]
  },
  {
   "cell_type": "code",
   "execution_count": null,
   "id": "2a393867",
   "metadata": {},
   "outputs": [],
   "source": [
    "housing_X_test = strat_test_set.drop(\"median_house_value\",axis=1)\n",
    "housing_y_test = strat_test_set[\"median_house_value\"].copy()"
   ]
  },
  {
   "cell_type": "markdown",
   "id": "b80ad806",
   "metadata": {},
   "source": [
    "### Separating numerical and categorical attributes from the X_train set"
   ]
  },
  {
   "cell_type": "code",
   "execution_count": 10,
   "id": "c9d490c1",
   "metadata": {},
   "outputs": [],
   "source": [
    "housing_X_train_numerical = housing_X_train.drop(\"ocean_proximity\", axis=1)"
   ]
  },
  {
   "cell_type": "code",
   "execution_count": 11,
   "id": "87b57395",
   "metadata": {},
   "outputs": [],
   "source": [
    "housing_X_train_categorical = housing_X_train[[\"ocean_proximity\"]]"
   ]
  },
  {
   "cell_type": "markdown",
   "id": "2742c790",
   "metadata": {},
   "source": [
    "#### Defining imputer to fill in missing values"
   ]
  },
  {
   "cell_type": "code",
   "execution_count": 12,
   "id": "2b343375",
   "metadata": {},
   "outputs": [],
   "source": [
    "from sklearn.impute import SimpleImputer\n",
    "imputer = SimpleImputer(strategy=\"median\")"
   ]
  },
  {
   "cell_type": "markdown",
   "id": "99082a05",
   "metadata": {},
   "source": [
    "#### Defining one hot encoder for categorical variable \"ocean proximity\""
   ]
  },
  {
   "cell_type": "code",
   "execution_count": 13,
   "id": "bb698887",
   "metadata": {},
   "outputs": [],
   "source": [
    "from sklearn.preprocessing import OneHotEncoder\n",
    "cat_encoder = OneHotEncoder()"
   ]
  },
  {
   "cell_type": "markdown",
   "id": "64a0960e",
   "metadata": {},
   "source": [
    "#### Defining class to add additional attributes (feature engineering)"
   ]
  },
  {
   "cell_type": "code",
   "execution_count": 14,
   "id": "744c44bb",
   "metadata": {},
   "outputs": [],
   "source": [
    "from sklearn.base import BaseEstimator, TransformerMixin\n",
    "\n",
    "col_names = \"total_rooms\", \"total_bedrooms\", \"population\", \"households\"\n",
    "rooms_ix, bedrooms_ix, population_ix, households_ix = [housing_X_train_numerical.columns.get_loc(c) for c in col_names]\n",
    "\n",
    "class CombinedAttributesAdder(BaseEstimator, TransformerMixin):\n",
    "    def __init__(self, add_bedrooms_per_room=True):\n",
    "        self.add_bedrooms_per_room = add_bedrooms_per_room\n",
    "    def fit(self, X, y=None):\n",
    "        return self  # nothing else to do\n",
    "    def transform(self, X):\n",
    "        rooms_per_household = X[:, rooms_ix] / X[:, households_ix]\n",
    "        population_per_household = X[:, population_ix] / X[:, households_ix]\n",
    "        if self.add_bedrooms_per_room:\n",
    "            bedrooms_per_room = X[:, bedrooms_ix] / X[:, rooms_ix]\n",
    "            return np.c_[X, rooms_per_household, population_per_household,\n",
    "                         bedrooms_per_room]\n",
    "        else:\n",
    "            return np.c_[X, rooms_per_household, population_per_household]\n",
    "\n",
    "attr_adder = CombinedAttributesAdder(add_bedrooms_per_room=False)"
   ]
  },
  {
   "cell_type": "markdown",
   "id": "a9983257",
   "metadata": {},
   "source": [
    "#### Adding pipeline to perform few operations on the dataset"
   ]
  },
  {
   "cell_type": "code",
   "execution_count": 15,
   "id": "fc63fde5",
   "metadata": {},
   "outputs": [],
   "source": [
    "from sklearn.pipeline import Pipeline\n",
    "from sklearn.preprocessing import StandardScaler\n",
    "\n",
    "num_pipeline = Pipeline([('imputer', SimpleImputer(strategy=\"median\")),('attribs_adder', CombinedAttributesAdder()),\n",
    "                         ('std_scaler', StandardScaler()),])"
   ]
  },
  {
   "cell_type": "markdown",
   "id": "22daef1d",
   "metadata": {},
   "source": [
    "#### Adding column transformer to facilitate pipeline operations on both numerical and categorical attributes"
   ]
  },
  {
   "cell_type": "code",
   "execution_count": 16,
   "id": "b0243617",
   "metadata": {},
   "outputs": [],
   "source": [
    "from sklearn.compose import ColumnTransformer\n",
    "\n",
    "num_attribs = list(housing_X_train_numerical)\n",
    "cat_attribs = [\"ocean_proximity\"]\n",
    "\n",
    "full_pipeline = ColumnTransformer([(\"num\", num_pipeline, num_attribs),(\"cat\", OneHotEncoder(), cat_attribs),])\n",
    "\n",
    "housing_X_train_prepared = full_pipeline.fit_transform(housing_X_train)"
   ]
  },
  {
   "cell_type": "code",
   "execution_count": 17,
   "id": "9a4cda75",
   "metadata": {},
   "outputs": [
    {
     "data": {
      "text/plain": [
       "(16512, 16)"
      ]
     },
     "execution_count": 17,
     "metadata": {},
     "output_type": "execute_result"
    }
   ],
   "source": [
    "housing_X_train_prepared.shape"
   ]
  },
  {
   "cell_type": "code",
   "execution_count": 18,
   "id": "20fe902c",
   "metadata": {},
   "outputs": [
    {
     "data": {
      "text/plain": [
       "(16512,)"
      ]
     },
     "execution_count": 18,
     "metadata": {},
     "output_type": "execute_result"
    }
   ],
   "source": [
    "housing_y_train.shape"
   ]
  },
  {
   "cell_type": "markdown",
   "id": "5f83321b",
   "metadata": {},
   "source": [
    "#### Defining Linear Regression Model"
   ]
  },
  {
   "cell_type": "code",
   "execution_count": 19,
   "id": "981225c1",
   "metadata": {},
   "outputs": [
    {
     "data": {
      "text/html": [
       "<style>#sk-container-id-1 {color: black;background-color: white;}#sk-container-id-1 pre{padding: 0;}#sk-container-id-1 div.sk-toggleable {background-color: white;}#sk-container-id-1 label.sk-toggleable__label {cursor: pointer;display: block;width: 100%;margin-bottom: 0;padding: 0.3em;box-sizing: border-box;text-align: center;}#sk-container-id-1 label.sk-toggleable__label-arrow:before {content: \"▸\";float: left;margin-right: 0.25em;color: #696969;}#sk-container-id-1 label.sk-toggleable__label-arrow:hover:before {color: black;}#sk-container-id-1 div.sk-estimator:hover label.sk-toggleable__label-arrow:before {color: black;}#sk-container-id-1 div.sk-toggleable__content {max-height: 0;max-width: 0;overflow: hidden;text-align: left;background-color: #f0f8ff;}#sk-container-id-1 div.sk-toggleable__content pre {margin: 0.2em;color: black;border-radius: 0.25em;background-color: #f0f8ff;}#sk-container-id-1 input.sk-toggleable__control:checked~div.sk-toggleable__content {max-height: 200px;max-width: 100%;overflow: auto;}#sk-container-id-1 input.sk-toggleable__control:checked~label.sk-toggleable__label-arrow:before {content: \"▾\";}#sk-container-id-1 div.sk-estimator input.sk-toggleable__control:checked~label.sk-toggleable__label {background-color: #d4ebff;}#sk-container-id-1 div.sk-label input.sk-toggleable__control:checked~label.sk-toggleable__label {background-color: #d4ebff;}#sk-container-id-1 input.sk-hidden--visually {border: 0;clip: rect(1px 1px 1px 1px);clip: rect(1px, 1px, 1px, 1px);height: 1px;margin: -1px;overflow: hidden;padding: 0;position: absolute;width: 1px;}#sk-container-id-1 div.sk-estimator {font-family: monospace;background-color: #f0f8ff;border: 1px dotted black;border-radius: 0.25em;box-sizing: border-box;margin-bottom: 0.5em;}#sk-container-id-1 div.sk-estimator:hover {background-color: #d4ebff;}#sk-container-id-1 div.sk-parallel-item::after {content: \"\";width: 100%;border-bottom: 1px solid gray;flex-grow: 1;}#sk-container-id-1 div.sk-label:hover label.sk-toggleable__label {background-color: #d4ebff;}#sk-container-id-1 div.sk-serial::before {content: \"\";position: absolute;border-left: 1px solid gray;box-sizing: border-box;top: 0;bottom: 0;left: 50%;z-index: 0;}#sk-container-id-1 div.sk-serial {display: flex;flex-direction: column;align-items: center;background-color: white;padding-right: 0.2em;padding-left: 0.2em;position: relative;}#sk-container-id-1 div.sk-item {position: relative;z-index: 1;}#sk-container-id-1 div.sk-parallel {display: flex;align-items: stretch;justify-content: center;background-color: white;position: relative;}#sk-container-id-1 div.sk-item::before, #sk-container-id-1 div.sk-parallel-item::before {content: \"\";position: absolute;border-left: 1px solid gray;box-sizing: border-box;top: 0;bottom: 0;left: 50%;z-index: -1;}#sk-container-id-1 div.sk-parallel-item {display: flex;flex-direction: column;z-index: 1;position: relative;background-color: white;}#sk-container-id-1 div.sk-parallel-item:first-child::after {align-self: flex-end;width: 50%;}#sk-container-id-1 div.sk-parallel-item:last-child::after {align-self: flex-start;width: 50%;}#sk-container-id-1 div.sk-parallel-item:only-child::after {width: 0;}#sk-container-id-1 div.sk-dashed-wrapped {border: 1px dashed gray;margin: 0 0.4em 0.5em 0.4em;box-sizing: border-box;padding-bottom: 0.4em;background-color: white;}#sk-container-id-1 div.sk-label label {font-family: monospace;font-weight: bold;display: inline-block;line-height: 1.2em;}#sk-container-id-1 div.sk-label-container {text-align: center;}#sk-container-id-1 div.sk-container {/* jupyter's `normalize.less` sets `[hidden] { display: none; }` but bootstrap.min.css set `[hidden] { display: none !important; }` so we also need the `!important` here to be able to override the default hidden behavior on the sphinx rendered scikit-learn.org. See: https://github.com/scikit-learn/scikit-learn/issues/21755 */display: inline-block !important;position: relative;}#sk-container-id-1 div.sk-text-repr-fallback {display: none;}</style><div id=\"sk-container-id-1\" class=\"sk-top-container\"><div class=\"sk-text-repr-fallback\"><pre>LinearRegression()</pre><b>In a Jupyter environment, please rerun this cell to show the HTML representation or trust the notebook. <br />On GitHub, the HTML representation is unable to render, please try loading this page with nbviewer.org.</b></div><div class=\"sk-container\" hidden><div class=\"sk-item\"><div class=\"sk-estimator sk-toggleable\"><input class=\"sk-toggleable__control sk-hidden--visually\" id=\"sk-estimator-id-1\" type=\"checkbox\" checked><label for=\"sk-estimator-id-1\" class=\"sk-toggleable__label sk-toggleable__label-arrow\">LinearRegression</label><div class=\"sk-toggleable__content\"><pre>LinearRegression()</pre></div></div></div></div></div>"
      ],
      "text/plain": [
       "LinearRegression()"
      ]
     },
     "execution_count": 19,
     "metadata": {},
     "output_type": "execute_result"
    }
   ],
   "source": [
    "from sklearn.linear_model import LinearRegression\n",
    "\n",
    "lin_reg = LinearRegression()\n",
    "lin_reg.fit(housing_X_train_prepared, housing_y_train)"
   ]
  },
  {
   "cell_type": "markdown",
   "id": "58efb9ae",
   "metadata": {},
   "source": [
    "#### Defining Decision Tree Regression Model"
   ]
  },
  {
   "cell_type": "code",
   "execution_count": 20,
   "id": "8df75cf8",
   "metadata": {},
   "outputs": [
    {
     "data": {
      "text/html": [
       "<style>#sk-container-id-2 {color: black;background-color: white;}#sk-container-id-2 pre{padding: 0;}#sk-container-id-2 div.sk-toggleable {background-color: white;}#sk-container-id-2 label.sk-toggleable__label {cursor: pointer;display: block;width: 100%;margin-bottom: 0;padding: 0.3em;box-sizing: border-box;text-align: center;}#sk-container-id-2 label.sk-toggleable__label-arrow:before {content: \"▸\";float: left;margin-right: 0.25em;color: #696969;}#sk-container-id-2 label.sk-toggleable__label-arrow:hover:before {color: black;}#sk-container-id-2 div.sk-estimator:hover label.sk-toggleable__label-arrow:before {color: black;}#sk-container-id-2 div.sk-toggleable__content {max-height: 0;max-width: 0;overflow: hidden;text-align: left;background-color: #f0f8ff;}#sk-container-id-2 div.sk-toggleable__content pre {margin: 0.2em;color: black;border-radius: 0.25em;background-color: #f0f8ff;}#sk-container-id-2 input.sk-toggleable__control:checked~div.sk-toggleable__content {max-height: 200px;max-width: 100%;overflow: auto;}#sk-container-id-2 input.sk-toggleable__control:checked~label.sk-toggleable__label-arrow:before {content: \"▾\";}#sk-container-id-2 div.sk-estimator input.sk-toggleable__control:checked~label.sk-toggleable__label {background-color: #d4ebff;}#sk-container-id-2 div.sk-label input.sk-toggleable__control:checked~label.sk-toggleable__label {background-color: #d4ebff;}#sk-container-id-2 input.sk-hidden--visually {border: 0;clip: rect(1px 1px 1px 1px);clip: rect(1px, 1px, 1px, 1px);height: 1px;margin: -1px;overflow: hidden;padding: 0;position: absolute;width: 1px;}#sk-container-id-2 div.sk-estimator {font-family: monospace;background-color: #f0f8ff;border: 1px dotted black;border-radius: 0.25em;box-sizing: border-box;margin-bottom: 0.5em;}#sk-container-id-2 div.sk-estimator:hover {background-color: #d4ebff;}#sk-container-id-2 div.sk-parallel-item::after {content: \"\";width: 100%;border-bottom: 1px solid gray;flex-grow: 1;}#sk-container-id-2 div.sk-label:hover label.sk-toggleable__label {background-color: #d4ebff;}#sk-container-id-2 div.sk-serial::before {content: \"\";position: absolute;border-left: 1px solid gray;box-sizing: border-box;top: 0;bottom: 0;left: 50%;z-index: 0;}#sk-container-id-2 div.sk-serial {display: flex;flex-direction: column;align-items: center;background-color: white;padding-right: 0.2em;padding-left: 0.2em;position: relative;}#sk-container-id-2 div.sk-item {position: relative;z-index: 1;}#sk-container-id-2 div.sk-parallel {display: flex;align-items: stretch;justify-content: center;background-color: white;position: relative;}#sk-container-id-2 div.sk-item::before, #sk-container-id-2 div.sk-parallel-item::before {content: \"\";position: absolute;border-left: 1px solid gray;box-sizing: border-box;top: 0;bottom: 0;left: 50%;z-index: -1;}#sk-container-id-2 div.sk-parallel-item {display: flex;flex-direction: column;z-index: 1;position: relative;background-color: white;}#sk-container-id-2 div.sk-parallel-item:first-child::after {align-self: flex-end;width: 50%;}#sk-container-id-2 div.sk-parallel-item:last-child::after {align-self: flex-start;width: 50%;}#sk-container-id-2 div.sk-parallel-item:only-child::after {width: 0;}#sk-container-id-2 div.sk-dashed-wrapped {border: 1px dashed gray;margin: 0 0.4em 0.5em 0.4em;box-sizing: border-box;padding-bottom: 0.4em;background-color: white;}#sk-container-id-2 div.sk-label label {font-family: monospace;font-weight: bold;display: inline-block;line-height: 1.2em;}#sk-container-id-2 div.sk-label-container {text-align: center;}#sk-container-id-2 div.sk-container {/* jupyter's `normalize.less` sets `[hidden] { display: none; }` but bootstrap.min.css set `[hidden] { display: none !important; }` so we also need the `!important` here to be able to override the default hidden behavior on the sphinx rendered scikit-learn.org. See: https://github.com/scikit-learn/scikit-learn/issues/21755 */display: inline-block !important;position: relative;}#sk-container-id-2 div.sk-text-repr-fallback {display: none;}</style><div id=\"sk-container-id-2\" class=\"sk-top-container\"><div class=\"sk-text-repr-fallback\"><pre>DecisionTreeRegressor(random_state=42)</pre><b>In a Jupyter environment, please rerun this cell to show the HTML representation or trust the notebook. <br />On GitHub, the HTML representation is unable to render, please try loading this page with nbviewer.org.</b></div><div class=\"sk-container\" hidden><div class=\"sk-item\"><div class=\"sk-estimator sk-toggleable\"><input class=\"sk-toggleable__control sk-hidden--visually\" id=\"sk-estimator-id-2\" type=\"checkbox\" checked><label for=\"sk-estimator-id-2\" class=\"sk-toggleable__label sk-toggleable__label-arrow\">DecisionTreeRegressor</label><div class=\"sk-toggleable__content\"><pre>DecisionTreeRegressor(random_state=42)</pre></div></div></div></div></div>"
      ],
      "text/plain": [
       "DecisionTreeRegressor(random_state=42)"
      ]
     },
     "execution_count": 20,
     "metadata": {},
     "output_type": "execute_result"
    }
   ],
   "source": [
    "from sklearn.tree import DecisionTreeRegressor\n",
    "\n",
    "tree_reg = DecisionTreeRegressor(random_state=42)\n",
    "tree_reg.fit(housing_X_train_prepared, housing_y_train)"
   ]
  },
  {
   "cell_type": "markdown",
   "id": "c9dca9df",
   "metadata": {},
   "source": [
    "#### Defining Random Forest Regression Model"
   ]
  },
  {
   "cell_type": "code",
   "execution_count": 21,
   "id": "fbf44f77",
   "metadata": {},
   "outputs": [
    {
     "data": {
      "text/html": [
       "<style>#sk-container-id-3 {color: black;background-color: white;}#sk-container-id-3 pre{padding: 0;}#sk-container-id-3 div.sk-toggleable {background-color: white;}#sk-container-id-3 label.sk-toggleable__label {cursor: pointer;display: block;width: 100%;margin-bottom: 0;padding: 0.3em;box-sizing: border-box;text-align: center;}#sk-container-id-3 label.sk-toggleable__label-arrow:before {content: \"▸\";float: left;margin-right: 0.25em;color: #696969;}#sk-container-id-3 label.sk-toggleable__label-arrow:hover:before {color: black;}#sk-container-id-3 div.sk-estimator:hover label.sk-toggleable__label-arrow:before {color: black;}#sk-container-id-3 div.sk-toggleable__content {max-height: 0;max-width: 0;overflow: hidden;text-align: left;background-color: #f0f8ff;}#sk-container-id-3 div.sk-toggleable__content pre {margin: 0.2em;color: black;border-radius: 0.25em;background-color: #f0f8ff;}#sk-container-id-3 input.sk-toggleable__control:checked~div.sk-toggleable__content {max-height: 200px;max-width: 100%;overflow: auto;}#sk-container-id-3 input.sk-toggleable__control:checked~label.sk-toggleable__label-arrow:before {content: \"▾\";}#sk-container-id-3 div.sk-estimator input.sk-toggleable__control:checked~label.sk-toggleable__label {background-color: #d4ebff;}#sk-container-id-3 div.sk-label input.sk-toggleable__control:checked~label.sk-toggleable__label {background-color: #d4ebff;}#sk-container-id-3 input.sk-hidden--visually {border: 0;clip: rect(1px 1px 1px 1px);clip: rect(1px, 1px, 1px, 1px);height: 1px;margin: -1px;overflow: hidden;padding: 0;position: absolute;width: 1px;}#sk-container-id-3 div.sk-estimator {font-family: monospace;background-color: #f0f8ff;border: 1px dotted black;border-radius: 0.25em;box-sizing: border-box;margin-bottom: 0.5em;}#sk-container-id-3 div.sk-estimator:hover {background-color: #d4ebff;}#sk-container-id-3 div.sk-parallel-item::after {content: \"\";width: 100%;border-bottom: 1px solid gray;flex-grow: 1;}#sk-container-id-3 div.sk-label:hover label.sk-toggleable__label {background-color: #d4ebff;}#sk-container-id-3 div.sk-serial::before {content: \"\";position: absolute;border-left: 1px solid gray;box-sizing: border-box;top: 0;bottom: 0;left: 50%;z-index: 0;}#sk-container-id-3 div.sk-serial {display: flex;flex-direction: column;align-items: center;background-color: white;padding-right: 0.2em;padding-left: 0.2em;position: relative;}#sk-container-id-3 div.sk-item {position: relative;z-index: 1;}#sk-container-id-3 div.sk-parallel {display: flex;align-items: stretch;justify-content: center;background-color: white;position: relative;}#sk-container-id-3 div.sk-item::before, #sk-container-id-3 div.sk-parallel-item::before {content: \"\";position: absolute;border-left: 1px solid gray;box-sizing: border-box;top: 0;bottom: 0;left: 50%;z-index: -1;}#sk-container-id-3 div.sk-parallel-item {display: flex;flex-direction: column;z-index: 1;position: relative;background-color: white;}#sk-container-id-3 div.sk-parallel-item:first-child::after {align-self: flex-end;width: 50%;}#sk-container-id-3 div.sk-parallel-item:last-child::after {align-self: flex-start;width: 50%;}#sk-container-id-3 div.sk-parallel-item:only-child::after {width: 0;}#sk-container-id-3 div.sk-dashed-wrapped {border: 1px dashed gray;margin: 0 0.4em 0.5em 0.4em;box-sizing: border-box;padding-bottom: 0.4em;background-color: white;}#sk-container-id-3 div.sk-label label {font-family: monospace;font-weight: bold;display: inline-block;line-height: 1.2em;}#sk-container-id-3 div.sk-label-container {text-align: center;}#sk-container-id-3 div.sk-container {/* jupyter's `normalize.less` sets `[hidden] { display: none; }` but bootstrap.min.css set `[hidden] { display: none !important; }` so we also need the `!important` here to be able to override the default hidden behavior on the sphinx rendered scikit-learn.org. See: https://github.com/scikit-learn/scikit-learn/issues/21755 */display: inline-block !important;position: relative;}#sk-container-id-3 div.sk-text-repr-fallback {display: none;}</style><div id=\"sk-container-id-3\" class=\"sk-top-container\"><div class=\"sk-text-repr-fallback\"><pre>RandomForestRegressor(random_state=42)</pre><b>In a Jupyter environment, please rerun this cell to show the HTML representation or trust the notebook. <br />On GitHub, the HTML representation is unable to render, please try loading this page with nbviewer.org.</b></div><div class=\"sk-container\" hidden><div class=\"sk-item\"><div class=\"sk-estimator sk-toggleable\"><input class=\"sk-toggleable__control sk-hidden--visually\" id=\"sk-estimator-id-3\" type=\"checkbox\" checked><label for=\"sk-estimator-id-3\" class=\"sk-toggleable__label sk-toggleable__label-arrow\">RandomForestRegressor</label><div class=\"sk-toggleable__content\"><pre>RandomForestRegressor(random_state=42)</pre></div></div></div></div></div>"
      ],
      "text/plain": [
       "RandomForestRegressor(random_state=42)"
      ]
     },
     "execution_count": 21,
     "metadata": {},
     "output_type": "execute_result"
    }
   ],
   "source": [
    "from sklearn.ensemble import RandomForestRegressor\n",
    "\n",
    "forest_reg = RandomForestRegressor(n_estimators=100, random_state=42)\n",
    "forest_reg.fit(housing_X_train_prepared, housing_y_train)"
   ]
  },
  {
   "cell_type": "markdown",
   "id": "d2d5743d",
   "metadata": {},
   "source": [
    "#### Predicting with linear regressor"
   ]
  },
  {
   "cell_type": "code",
   "execution_count": 22,
   "id": "40910e89",
   "metadata": {},
   "outputs": [],
   "source": [
    "from sklearn.metrics import mean_squared_error, mean_absolute_error"
   ]
  },
  {
   "cell_type": "code",
   "execution_count": null,
   "id": "371768e7",
   "metadata": {},
   "outputs": [],
   "source": [
    "housing_predictions_lin = lin_reg.predict(housing_X_train_prepared)   \n",
    "lin_mse = mean_squared_error(housing_y_train, housing_predictions_lin)\n",
    "lin_rmse = np.sqrt(lin_mse)\n",
    "lin_rmse"
   ]
  },
  {
   "cell_type": "markdown",
   "id": "672dc9e6",
   "metadata": {},
   "source": [
    "#### Predicting with decision tree regressor"
   ]
  },
  {
   "cell_type": "code",
   "execution_count": null,
   "id": "16f2a2d3",
   "metadata": {},
   "outputs": [],
   "source": [
    "housing_predictions_tree = tree_reg.predict(housing_X_train_prepared)              \n",
    "tree_mse = mean_squared_error(housing_y_train, housing_predictions_tree)\n",
    "tree_rmse = np.sqrt(tree_mse)\n",
    "tree_rmse"
   ]
  },
  {
   "cell_type": "markdown",
   "id": "5c57c9b0",
   "metadata": {},
   "source": [
    "#### Predicting with random forest regressor"
   ]
  },
  {
   "cell_type": "code",
   "execution_count": null,
   "id": "2e26a407",
   "metadata": {},
   "outputs": [],
   "source": [
    "housing_predictions_forest = forest_reg.predict(housing_X_train_prepared)\n",
    "forest_mse = mean_squared_error(housing_y_train, housing_predictions_forest)\n",
    "forest_rmse = np.sqrt(forest_mse)\n",
    "forest_rmse"
   ]
  },
  {
   "cell_type": "markdown",
   "id": "0b1c683a",
   "metadata": {},
   "source": [
    "#### Evaluation using Cross Validation for all regression models"
   ]
  },
  {
   "cell_type": "code",
   "execution_count": 23,
   "id": "a9cb8385",
   "metadata": {},
   "outputs": [],
   "source": [
    "from sklearn.model_selection import cross_val_score"
   ]
  },
  {
   "cell_type": "code",
   "execution_count": 24,
   "id": "b905b77e",
   "metadata": {},
   "outputs": [],
   "source": [
    "lin_scores = cross_val_score(lin_reg, housing_X_train_prepared, housing_y_train,\n",
    "                             scoring=\"neg_mean_squared_error\", cv=10)\n",
    "lin_rmse_scores = np.sqrt(-lin_scores)"
   ]
  },
  {
   "cell_type": "code",
   "execution_count": 25,
   "id": "6a470d28",
   "metadata": {},
   "outputs": [],
   "source": [
    "tree_scores = cross_val_score(tree_reg, housing_X_train_prepared, housing_y_train,\n",
    "                         scoring=\"neg_mean_squared_error\", cv=10)\n",
    "tree_rmse_scores = np.sqrt(-tree_scores)"
   ]
  },
  {
   "cell_type": "code",
   "execution_count": 26,
   "id": "9599ccc7",
   "metadata": {},
   "outputs": [],
   "source": [
    "forest_scores = cross_val_score(forest_reg, housing_X_train_prepared, housing_y_train,\n",
    "                                scoring=\"neg_mean_squared_error\", cv=10)\n",
    "forest_rmse_scores = np.sqrt(-forest_scores)"
   ]
  },
  {
   "cell_type": "markdown",
   "id": "2c5652b6",
   "metadata": {},
   "source": [
    "##### Creating a function to display scores, mean and standard deviation"
   ]
  },
  {
   "cell_type": "code",
   "execution_count": 27,
   "id": "2d715aff",
   "metadata": {},
   "outputs": [],
   "source": [
    "def display_scores(scores):\n",
    "    print(\"Scores:\", scores)\n",
    "    print(\"Mean:\", scores.mean())\n",
    "    print(\"Standard deviation:\", scores.std())"
   ]
  },
  {
   "cell_type": "code",
   "execution_count": 28,
   "id": "68f8fc02",
   "metadata": {},
   "outputs": [
    {
     "name": "stdout",
     "output_type": "stream",
     "text": [
      "Scores: [71762.76364394 64114.99166359 67771.17124356 68635.19072082\n",
      " 66846.14089488 72528.03725385 73997.08050233 68802.33629334\n",
      " 66443.28836884 70139.79923956]\n",
      "Mean: 69104.07998247063\n",
      "Standard deviation: 2880.3282098180666\n"
     ]
    }
   ],
   "source": [
    "display_scores(lin_rmse_scores)"
   ]
  },
  {
   "cell_type": "code",
   "execution_count": 29,
   "id": "e013db64",
   "metadata": {},
   "outputs": [
    {
     "name": "stdout",
     "output_type": "stream",
     "text": [
      "Scores: [72831.45749112 69973.18438322 69528.56551415 72517.78229792\n",
      " 69145.50006909 79094.74123727 68960.045444   73344.50225684\n",
      " 69826.02473916 71077.09753998]\n",
      "Mean: 71629.89009727491\n",
      "Standard deviation: 2914.035468468928\n"
     ]
    }
   ],
   "source": [
    "display_scores(tree_rmse_scores)"
   ]
  },
  {
   "cell_type": "code",
   "execution_count": 30,
   "id": "af506501",
   "metadata": {},
   "outputs": [
    {
     "name": "stdout",
     "output_type": "stream",
     "text": [
      "Scores: [51559.63379638 48737.57100062 47210.51269766 51875.21247297\n",
      " 47577.50470123 51863.27467888 52746.34645573 50065.1762751\n",
      " 48664.66818196 54055.90894609]\n",
      "Mean: 50435.58092066179\n",
      "Standard deviation: 2203.3381412764606\n"
     ]
    }
   ],
   "source": [
    "display_scores(forest_rmse_scores)"
   ]
  },
  {
   "cell_type": "markdown",
   "id": "8a6a6d01",
   "metadata": {},
   "source": [
    "#### Defining Support Vector Regression Model and initializing Grid Search to find optimal hyperparameters"
   ]
  },
  {
   "cell_type": "code",
   "execution_count": 31,
   "id": "70de6f3f",
   "metadata": {},
   "outputs": [
    {
     "name": "stdout",
     "output_type": "stream",
     "text": [
      "Fitting 5 folds for each of 16 candidates, totalling 80 fits\n",
      "[CV] END ..............................C=10.0, kernel=linear; total time=   8.4s\n",
      "[CV] END ..............................C=10.0, kernel=linear; total time=   5.3s\n",
      "[CV] END ..............................C=10.0, kernel=linear; total time=   5.1s\n",
      "[CV] END ..............................C=10.0, kernel=linear; total time=   5.0s\n",
      "[CV] END ..............................C=10.0, kernel=linear; total time=   5.0s\n",
      "[CV] END .............................C=100.0, kernel=linear; total time=   5.1s\n",
      "[CV] END .............................C=100.0, kernel=linear; total time=   5.0s\n",
      "[CV] END .............................C=100.0, kernel=linear; total time=   4.9s\n",
      "[CV] END .............................C=100.0, kernel=linear; total time=   5.1s\n",
      "[CV] END .............................C=100.0, kernel=linear; total time=   5.1s\n",
      "[CV] END ............................C=1000.0, kernel=linear; total time=   5.1s\n",
      "[CV] END ............................C=1000.0, kernel=linear; total time=   5.1s\n",
      "[CV] END ............................C=1000.0, kernel=linear; total time=   5.1s\n",
      "[CV] END ............................C=1000.0, kernel=linear; total time=   5.2s\n",
      "[CV] END ............................C=1000.0, kernel=linear; total time=   5.2s\n",
      "[CV] END ...........................C=10000.0, kernel=linear; total time=   7.0s\n",
      "[CV] END ...........................C=10000.0, kernel=linear; total time=   6.8s\n",
      "[CV] END ...........................C=10000.0, kernel=linear; total time=   6.7s\n",
      "[CV] END ...........................C=10000.0, kernel=linear; total time=   6.6s\n",
      "[CV] END ...........................C=10000.0, kernel=linear; total time=   6.8s\n",
      "[CV] END ......................C=1.0, gamma=0.01, kernel=rbf; total time=   9.8s\n",
      "[CV] END ......................C=1.0, gamma=0.01, kernel=rbf; total time=   9.8s\n",
      "[CV] END ......................C=1.0, gamma=0.01, kernel=rbf; total time=   9.9s\n",
      "[CV] END ......................C=1.0, gamma=0.01, kernel=rbf; total time=   9.9s\n",
      "[CV] END ......................C=1.0, gamma=0.01, kernel=rbf; total time=   9.8s\n",
      "[CV] END .......................C=1.0, gamma=0.1, kernel=rbf; total time=   9.7s\n",
      "[CV] END .......................C=1.0, gamma=0.1, kernel=rbf; total time=   9.7s\n",
      "[CV] END .......................C=1.0, gamma=0.1, kernel=rbf; total time=   9.7s\n",
      "[CV] END .......................C=1.0, gamma=0.1, kernel=rbf; total time=   9.8s\n",
      "[CV] END .......................C=1.0, gamma=0.1, kernel=rbf; total time=   9.8s\n",
      "[CV] END .......................C=1.0, gamma=1.0, kernel=rbf; total time=   9.2s\n",
      "[CV] END .......................C=1.0, gamma=1.0, kernel=rbf; total time=   9.3s\n",
      "[CV] END .......................C=1.0, gamma=1.0, kernel=rbf; total time=   9.3s\n",
      "[CV] END .......................C=1.0, gamma=1.0, kernel=rbf; total time=   9.3s\n",
      "[CV] END .......................C=1.0, gamma=1.0, kernel=rbf; total time=   9.3s\n",
      "[CV] END .....................C=10.0, gamma=0.01, kernel=rbf; total time=   9.8s\n",
      "[CV] END .....................C=10.0, gamma=0.01, kernel=rbf; total time=   9.9s\n",
      "[CV] END .....................C=10.0, gamma=0.01, kernel=rbf; total time=   9.8s\n",
      "[CV] END .....................C=10.0, gamma=0.01, kernel=rbf; total time=   9.9s\n",
      "[CV] END .....................C=10.0, gamma=0.01, kernel=rbf; total time=   9.9s\n",
      "[CV] END ......................C=10.0, gamma=0.1, kernel=rbf; total time=   9.8s\n",
      "[CV] END ......................C=10.0, gamma=0.1, kernel=rbf; total time=   9.9s\n",
      "[CV] END ......................C=10.0, gamma=0.1, kernel=rbf; total time=   9.9s\n",
      "[CV] END ......................C=10.0, gamma=0.1, kernel=rbf; total time=   9.9s\n",
      "[CV] END ......................C=10.0, gamma=0.1, kernel=rbf; total time=   9.9s\n",
      "[CV] END ......................C=10.0, gamma=1.0, kernel=rbf; total time=   9.5s\n",
      "[CV] END ......................C=10.0, gamma=1.0, kernel=rbf; total time=   9.4s\n",
      "[CV] END ......................C=10.0, gamma=1.0, kernel=rbf; total time=   9.5s\n",
      "[CV] END ......................C=10.0, gamma=1.0, kernel=rbf; total time=   9.5s\n",
      "[CV] END ......................C=10.0, gamma=1.0, kernel=rbf; total time=   9.6s\n",
      "[CV] END ....................C=100.0, gamma=0.01, kernel=rbf; total time=  10.2s\n",
      "[CV] END ....................C=100.0, gamma=0.01, kernel=rbf; total time=  10.0s\n",
      "[CV] END ....................C=100.0, gamma=0.01, kernel=rbf; total time=  10.0s\n",
      "[CV] END ....................C=100.0, gamma=0.01, kernel=rbf; total time=   9.9s\n",
      "[CV] END ....................C=100.0, gamma=0.01, kernel=rbf; total time=  10.1s\n",
      "[CV] END .....................C=100.0, gamma=0.1, kernel=rbf; total time=   9.7s\n",
      "[CV] END .....................C=100.0, gamma=0.1, kernel=rbf; total time=   9.8s\n",
      "[CV] END .....................C=100.0, gamma=0.1, kernel=rbf; total time=   9.7s\n",
      "[CV] END .....................C=100.0, gamma=0.1, kernel=rbf; total time=   9.7s\n",
      "[CV] END .....................C=100.0, gamma=0.1, kernel=rbf; total time=   9.8s\n",
      "[CV] END .....................C=100.0, gamma=1.0, kernel=rbf; total time=   9.4s\n",
      "[CV] END .....................C=100.0, gamma=1.0, kernel=rbf; total time=   9.4s\n",
      "[CV] END .....................C=100.0, gamma=1.0, kernel=rbf; total time=   9.4s\n",
      "[CV] END .....................C=100.0, gamma=1.0, kernel=rbf; total time=   9.5s\n",
      "[CV] END .....................C=100.0, gamma=1.0, kernel=rbf; total time=   9.5s\n",
      "[CV] END ...................C=1000.0, gamma=0.01, kernel=rbf; total time=   9.6s\n",
      "[CV] END ...................C=1000.0, gamma=0.01, kernel=rbf; total time=   9.8s\n",
      "[CV] END ...................C=1000.0, gamma=0.01, kernel=rbf; total time=   9.6s\n",
      "[CV] END ...................C=1000.0, gamma=0.01, kernel=rbf; total time=   9.8s\n",
      "[CV] END ...................C=1000.0, gamma=0.01, kernel=rbf; total time=   9.6s\n",
      "[CV] END ....................C=1000.0, gamma=0.1, kernel=rbf; total time=   9.5s\n",
      "[CV] END ....................C=1000.0, gamma=0.1, kernel=rbf; total time=   9.5s\n",
      "[CV] END ....................C=1000.0, gamma=0.1, kernel=rbf; total time=   9.5s\n",
      "[CV] END ....................C=1000.0, gamma=0.1, kernel=rbf; total time=   9.5s\n",
      "[CV] END ....................C=1000.0, gamma=0.1, kernel=rbf; total time=   9.5s\n",
      "[CV] END ....................C=1000.0, gamma=1.0, kernel=rbf; total time=   9.4s\n",
      "[CV] END ....................C=1000.0, gamma=1.0, kernel=rbf; total time=   9.4s\n",
      "[CV] END ....................C=1000.0, gamma=1.0, kernel=rbf; total time=   9.4s\n",
      "[CV] END ....................C=1000.0, gamma=1.0, kernel=rbf; total time=   9.5s\n",
      "[CV] END ....................C=1000.0, gamma=1.0, kernel=rbf; total time=   9.4s\n"
     ]
    },
    {
     "data": {
      "text/html": [
       "<style>#sk-container-id-4 {color: black;background-color: white;}#sk-container-id-4 pre{padding: 0;}#sk-container-id-4 div.sk-toggleable {background-color: white;}#sk-container-id-4 label.sk-toggleable__label {cursor: pointer;display: block;width: 100%;margin-bottom: 0;padding: 0.3em;box-sizing: border-box;text-align: center;}#sk-container-id-4 label.sk-toggleable__label-arrow:before {content: \"▸\";float: left;margin-right: 0.25em;color: #696969;}#sk-container-id-4 label.sk-toggleable__label-arrow:hover:before {color: black;}#sk-container-id-4 div.sk-estimator:hover label.sk-toggleable__label-arrow:before {color: black;}#sk-container-id-4 div.sk-toggleable__content {max-height: 0;max-width: 0;overflow: hidden;text-align: left;background-color: #f0f8ff;}#sk-container-id-4 div.sk-toggleable__content pre {margin: 0.2em;color: black;border-radius: 0.25em;background-color: #f0f8ff;}#sk-container-id-4 input.sk-toggleable__control:checked~div.sk-toggleable__content {max-height: 200px;max-width: 100%;overflow: auto;}#sk-container-id-4 input.sk-toggleable__control:checked~label.sk-toggleable__label-arrow:before {content: \"▾\";}#sk-container-id-4 div.sk-estimator input.sk-toggleable__control:checked~label.sk-toggleable__label {background-color: #d4ebff;}#sk-container-id-4 div.sk-label input.sk-toggleable__control:checked~label.sk-toggleable__label {background-color: #d4ebff;}#sk-container-id-4 input.sk-hidden--visually {border: 0;clip: rect(1px 1px 1px 1px);clip: rect(1px, 1px, 1px, 1px);height: 1px;margin: -1px;overflow: hidden;padding: 0;position: absolute;width: 1px;}#sk-container-id-4 div.sk-estimator {font-family: monospace;background-color: #f0f8ff;border: 1px dotted black;border-radius: 0.25em;box-sizing: border-box;margin-bottom: 0.5em;}#sk-container-id-4 div.sk-estimator:hover {background-color: #d4ebff;}#sk-container-id-4 div.sk-parallel-item::after {content: \"\";width: 100%;border-bottom: 1px solid gray;flex-grow: 1;}#sk-container-id-4 div.sk-label:hover label.sk-toggleable__label {background-color: #d4ebff;}#sk-container-id-4 div.sk-serial::before {content: \"\";position: absolute;border-left: 1px solid gray;box-sizing: border-box;top: 0;bottom: 0;left: 50%;z-index: 0;}#sk-container-id-4 div.sk-serial {display: flex;flex-direction: column;align-items: center;background-color: white;padding-right: 0.2em;padding-left: 0.2em;position: relative;}#sk-container-id-4 div.sk-item {position: relative;z-index: 1;}#sk-container-id-4 div.sk-parallel {display: flex;align-items: stretch;justify-content: center;background-color: white;position: relative;}#sk-container-id-4 div.sk-item::before, #sk-container-id-4 div.sk-parallel-item::before {content: \"\";position: absolute;border-left: 1px solid gray;box-sizing: border-box;top: 0;bottom: 0;left: 50%;z-index: -1;}#sk-container-id-4 div.sk-parallel-item {display: flex;flex-direction: column;z-index: 1;position: relative;background-color: white;}#sk-container-id-4 div.sk-parallel-item:first-child::after {align-self: flex-end;width: 50%;}#sk-container-id-4 div.sk-parallel-item:last-child::after {align-self: flex-start;width: 50%;}#sk-container-id-4 div.sk-parallel-item:only-child::after {width: 0;}#sk-container-id-4 div.sk-dashed-wrapped {border: 1px dashed gray;margin: 0 0.4em 0.5em 0.4em;box-sizing: border-box;padding-bottom: 0.4em;background-color: white;}#sk-container-id-4 div.sk-label label {font-family: monospace;font-weight: bold;display: inline-block;line-height: 1.2em;}#sk-container-id-4 div.sk-label-container {text-align: center;}#sk-container-id-4 div.sk-container {/* jupyter's `normalize.less` sets `[hidden] { display: none; }` but bootstrap.min.css set `[hidden] { display: none !important; }` so we also need the `!important` here to be able to override the default hidden behavior on the sphinx rendered scikit-learn.org. See: https://github.com/scikit-learn/scikit-learn/issues/21755 */display: inline-block !important;position: relative;}#sk-container-id-4 div.sk-text-repr-fallback {display: none;}</style><div id=\"sk-container-id-4\" class=\"sk-top-container\"><div class=\"sk-text-repr-fallback\"><pre>GridSearchCV(cv=5, estimator=SVR(),\n",
       "             param_grid=[{&#x27;C&#x27;: [10.0, 100.0, 1000.0, 10000.0],\n",
       "                          &#x27;kernel&#x27;: [&#x27;linear&#x27;]},\n",
       "                         {&#x27;C&#x27;: [1.0, 10.0, 100.0, 1000.0],\n",
       "                          &#x27;gamma&#x27;: [0.01, 0.1, 1.0], &#x27;kernel&#x27;: [&#x27;rbf&#x27;]}],\n",
       "             scoring=&#x27;neg_mean_squared_error&#x27;, verbose=2)</pre><b>In a Jupyter environment, please rerun this cell to show the HTML representation or trust the notebook. <br />On GitHub, the HTML representation is unable to render, please try loading this page with nbviewer.org.</b></div><div class=\"sk-container\" hidden><div class=\"sk-item sk-dashed-wrapped\"><div class=\"sk-label-container\"><div class=\"sk-label sk-toggleable\"><input class=\"sk-toggleable__control sk-hidden--visually\" id=\"sk-estimator-id-4\" type=\"checkbox\" ><label for=\"sk-estimator-id-4\" class=\"sk-toggleable__label sk-toggleable__label-arrow\">GridSearchCV</label><div class=\"sk-toggleable__content\"><pre>GridSearchCV(cv=5, estimator=SVR(),\n",
       "             param_grid=[{&#x27;C&#x27;: [10.0, 100.0, 1000.0, 10000.0],\n",
       "                          &#x27;kernel&#x27;: [&#x27;linear&#x27;]},\n",
       "                         {&#x27;C&#x27;: [1.0, 10.0, 100.0, 1000.0],\n",
       "                          &#x27;gamma&#x27;: [0.01, 0.1, 1.0], &#x27;kernel&#x27;: [&#x27;rbf&#x27;]}],\n",
       "             scoring=&#x27;neg_mean_squared_error&#x27;, verbose=2)</pre></div></div></div><div class=\"sk-parallel\"><div class=\"sk-parallel-item\"><div class=\"sk-item\"><div class=\"sk-label-container\"><div class=\"sk-label sk-toggleable\"><input class=\"sk-toggleable__control sk-hidden--visually\" id=\"sk-estimator-id-5\" type=\"checkbox\" ><label for=\"sk-estimator-id-5\" class=\"sk-toggleable__label sk-toggleable__label-arrow\">estimator: SVR</label><div class=\"sk-toggleable__content\"><pre>SVR()</pre></div></div></div><div class=\"sk-serial\"><div class=\"sk-item\"><div class=\"sk-estimator sk-toggleable\"><input class=\"sk-toggleable__control sk-hidden--visually\" id=\"sk-estimator-id-6\" type=\"checkbox\" ><label for=\"sk-estimator-id-6\" class=\"sk-toggleable__label sk-toggleable__label-arrow\">SVR</label><div class=\"sk-toggleable__content\"><pre>SVR()</pre></div></div></div></div></div></div></div></div></div></div>"
      ],
      "text/plain": [
       "GridSearchCV(cv=5, estimator=SVR(),\n",
       "             param_grid=[{'C': [10.0, 100.0, 1000.0, 10000.0],\n",
       "                          'kernel': ['linear']},\n",
       "                         {'C': [1.0, 10.0, 100.0, 1000.0],\n",
       "                          'gamma': [0.01, 0.1, 1.0], 'kernel': ['rbf']}],\n",
       "             scoring='neg_mean_squared_error', verbose=2)"
      ]
     },
     "execution_count": 31,
     "metadata": {},
     "output_type": "execute_result"
    }
   ],
   "source": [
    "from sklearn.svm import SVR\n",
    "from sklearn.model_selection import GridSearchCV\n",
    "\n",
    "param_grid = [\n",
    "        {'kernel': ['linear'], 'C': [10., 100., 1000., 10000.]},\n",
    "        {'kernel': ['rbf'], 'C': [1.0, 10., 100., 1000.0],\n",
    "         'gamma': [0.01, 0.1, 1.0]},\n",
    "    ]\n",
    "\n",
    "svm_reg_grid = SVR()\n",
    "grid_search = GridSearchCV(svm_reg_grid, param_grid, cv=5, scoring='neg_mean_squared_error', verbose=2)\n",
    "grid_search.fit(housing_X_train_prepared, housing_y_train)"
   ]
  },
  {
   "cell_type": "code",
   "execution_count": 32,
   "id": "7ff98784",
   "metadata": {},
   "outputs": [
    {
     "data": {
      "text/plain": [
       "{'C': 10000.0, 'kernel': 'linear'}"
      ]
     },
     "execution_count": 32,
     "metadata": {},
     "output_type": "execute_result"
    }
   ],
   "source": [
    "grid_search.best_params_"
   ]
  },
  {
   "cell_type": "code",
   "execution_count": 33,
   "id": "817b121b",
   "metadata": {},
   "outputs": [],
   "source": [
    "svm_reg_best = SVR(kernel=\"linear\",C=10000)\n",
    "svm_reg_best.fit(housing_X_train_prepared, housing_y_train)\n",
    "\n",
    "svm_scores = cross_val_score(svm_reg_best, housing_X_train_prepared, housing_y_train,\n",
    "                                scoring=\"neg_mean_squared_error\", cv=10)\n",
    "svm_rmse_scores = np.sqrt(-svm_scores)"
   ]
  },
  {
   "cell_type": "code",
   "execution_count": 34,
   "id": "6799f2c5",
   "metadata": {},
   "outputs": [
    {
     "name": "stdout",
     "output_type": "stream",
     "text": [
      "Scores: [72594.25749668 66077.21607085 67127.38810235 70239.3677623\n",
      " 67134.74071207 73922.46981788 77137.8945368  70000.30379852\n",
      " 67545.14984035 70930.05529475]\n",
      "Mean: 70270.88434325633\n",
      "Standard deviation: 3333.6185955727083\n"
     ]
    }
   ],
   "source": [
    "display_scores(svm_rmse_scores)"
   ]
  },
  {
   "cell_type": "markdown",
   "id": "a3b2f1a5",
   "metadata": {},
   "source": [
    "#### Creating graphs to compare results of different regression models"
   ]
  },
  {
   "cell_type": "code",
   "execution_count": 35,
   "id": "e5a8cca5",
   "metadata": {},
   "outputs": [],
   "source": [
    "from sklearn.metrics import r2_score"
   ]
  },
  {
   "cell_type": "code",
   "execution_count": 42,
   "id": "b5c727b1",
   "metadata": {},
   "outputs": [],
   "source": [
    "lin_mse_scores = -lin_scores"
   ]
  },
  {
   "cell_type": "code",
   "execution_count": 48,
   "id": "1aa3bdee",
   "metadata": {},
   "outputs": [
    {
     "name": "stdout",
     "output_type": "stream",
     "text": [
      "4783670160.819973\n"
     ]
    }
   ],
   "source": [
    "lin_mse_score = sum(lin_mse_scores)/len(lin_mse_scores)\n",
    "print(lin_mse_score)"
   ]
  },
  {
   "cell_type": "code",
   "execution_count": 36,
   "id": "9f52bd07",
   "metadata": {
    "scrolled": true
   },
   "outputs": [
    {
     "data": {
      "text/plain": [
       "array([71762.76364394, 64114.99166359, 67771.17124356, 68635.19072082,\n",
       "       66846.14089488, 72528.03725385, 73997.08050233, 68802.33629334,\n",
       "       66443.28836884, 70139.79923956])"
      ]
     },
     "execution_count": 36,
     "metadata": {},
     "output_type": "execute_result"
    }
   ],
   "source": [
    "lin_rmse_scores"
   ]
  },
  {
   "cell_type": "code",
   "execution_count": 49,
   "id": "f3a3abfd",
   "metadata": {},
   "outputs": [
    {
     "name": "stdout",
     "output_type": "stream",
     "text": [
      "69104.07998247063\n"
     ]
    }
   ],
   "source": [
    "lin_rmse_score = sum(lin_rmse_scores)/len(lin_rmse_scores)\n",
    "print(lin_rmse_score)"
   ]
  },
  {
   "cell_type": "code",
   "execution_count": 43,
   "id": "bb2e1179",
   "metadata": {},
   "outputs": [],
   "source": [
    "tree_mse_scores = -tree_scores"
   ]
  },
  {
   "cell_type": "code",
   "execution_count": 50,
   "id": "e048d19c",
   "metadata": {},
   "outputs": [
    {
     "name": "stdout",
     "output_type": "stream",
     "text": [
      "5139332758.0591755\n"
     ]
    }
   ],
   "source": [
    "tree_mse_score = sum(tree_mse_scores)/len(tree_mse_scores)\n",
    "print(tree_mse_score)"
   ]
  },
  {
   "cell_type": "code",
   "execution_count": 37,
   "id": "eee04e78",
   "metadata": {},
   "outputs": [
    {
     "data": {
      "text/plain": [
       "array([72831.45749112, 69973.18438322, 69528.56551415, 72517.78229792,\n",
       "       69145.50006909, 79094.74123727, 68960.045444  , 73344.50225684,\n",
       "       69826.02473916, 71077.09753998])"
      ]
     },
     "execution_count": 37,
     "metadata": {},
     "output_type": "execute_result"
    }
   ],
   "source": [
    "tree_rmse_scores"
   ]
  },
  {
   "cell_type": "code",
   "execution_count": 51,
   "id": "3995b1a8",
   "metadata": {},
   "outputs": [
    {
     "name": "stdout",
     "output_type": "stream",
     "text": [
      "71629.89009727491\n"
     ]
    }
   ],
   "source": [
    "tree_rmse_score = sum(tree_rmse_scores)/len(tree_rmse_scores)\n",
    "print(tree_rmse_score)"
   ]
  },
  {
   "cell_type": "code",
   "execution_count": 44,
   "id": "c29aa626",
   "metadata": {},
   "outputs": [],
   "source": [
    "forest_mse_scores = -forest_scores"
   ]
  },
  {
   "cell_type": "code",
   "execution_count": 52,
   "id": "bfb0b16b",
   "metadata": {},
   "outputs": [
    {
     "name": "stdout",
     "output_type": "stream",
     "text": [
      "2548602521.7694273\n"
     ]
    }
   ],
   "source": [
    "forest_mse_score = sum(forest_mse_scores)/len(forest_mse_scores)\n",
    "print(forest_mse_score)"
   ]
  },
  {
   "cell_type": "code",
   "execution_count": 38,
   "id": "c834dbc0",
   "metadata": {},
   "outputs": [
    {
     "data": {
      "text/plain": [
       "array([51559.63379638, 48737.57100062, 47210.51269766, 51875.21247297,\n",
       "       47577.50470123, 51863.27467888, 52746.34645573, 50065.1762751 ,\n",
       "       48664.66818196, 54055.90894609])"
      ]
     },
     "execution_count": 38,
     "metadata": {},
     "output_type": "execute_result"
    }
   ],
   "source": [
    "forest_rmse_scores"
   ]
  },
  {
   "cell_type": "code",
   "execution_count": 53,
   "id": "7b017ebe",
   "metadata": {},
   "outputs": [
    {
     "name": "stdout",
     "output_type": "stream",
     "text": [
      "50435.5809206618\n"
     ]
    }
   ],
   "source": [
    "forest_rmse_score = sum(forest_rmse_scores)/len(forest_rmse_scores)\n",
    "print(forest_rmse_score)"
   ]
  },
  {
   "cell_type": "code",
   "execution_count": 46,
   "id": "60d589e8",
   "metadata": {},
   "outputs": [],
   "source": [
    "svm_mse_scores = -svm_scores"
   ]
  },
  {
   "cell_type": "code",
   "execution_count": 54,
   "id": "15a82c41",
   "metadata": {},
   "outputs": [
    {
     "name": "stdout",
     "output_type": "stream",
     "text": [
      "4949110199.324055\n"
     ]
    }
   ],
   "source": [
    "svm_mse_score = sum(svm_mse_scores)/len(svm_mse_scores)\n",
    "print(svm_mse_score)"
   ]
  },
  {
   "cell_type": "code",
   "execution_count": 39,
   "id": "bf07d780",
   "metadata": {},
   "outputs": [
    {
     "data": {
      "text/plain": [
       "array([72594.25749668, 66077.21607085, 67127.38810235, 70239.3677623 ,\n",
       "       67134.74071207, 73922.46981788, 77137.8945368 , 70000.30379852,\n",
       "       67545.14984035, 70930.05529475])"
      ]
     },
     "execution_count": 39,
     "metadata": {},
     "output_type": "execute_result"
    }
   ],
   "source": [
    "svm_rmse_scores"
   ]
  },
  {
   "cell_type": "code",
   "execution_count": 55,
   "id": "72a23a8d",
   "metadata": {},
   "outputs": [
    {
     "name": "stdout",
     "output_type": "stream",
     "text": [
      "70270.88434325633\n"
     ]
    }
   ],
   "source": [
    "svm_rmse_score = sum(svm_rmse_scores)/len(svm_rmse_scores)\n",
    "print(svm_rmse_score)"
   ]
  },
  {
   "cell_type": "code",
   "execution_count": 56,
   "id": "423c7eb6",
   "metadata": {},
   "outputs": [],
   "source": [
    "mse_scores = (lin_mse_score,tree_mse_score,forest_mse_score,svm_mse_score)"
   ]
  },
  {
   "cell_type": "code",
   "execution_count": 57,
   "id": "fe063ea6",
   "metadata": {},
   "outputs": [
    {
     "name": "stdout",
     "output_type": "stream",
     "text": [
      "(4783670160.819973, 5139332758.0591755, 2548602521.7694273, 4949110199.324055)\n"
     ]
    }
   ],
   "source": [
    "print(mse_scores)"
   ]
  },
  {
   "cell_type": "code",
   "execution_count": 58,
   "id": "1b179532",
   "metadata": {},
   "outputs": [],
   "source": [
    "rmse_scores = (lin_rmse_score,tree_rmse_score,forest_rmse_score,svm_rmse_score)"
   ]
  },
  {
   "cell_type": "code",
   "execution_count": 59,
   "id": "fcedf985",
   "metadata": {},
   "outputs": [
    {
     "name": "stdout",
     "output_type": "stream",
     "text": [
      "(69104.07998247063, 71629.89009727491, 50435.5809206618, 70270.88434325633)\n"
     ]
    }
   ],
   "source": [
    "print(rmse_scores)"
   ]
  },
  {
   "cell_type": "code",
   "execution_count": 61,
   "id": "420dd309",
   "metadata": {},
   "outputs": [],
   "source": [
    "housing_lin_pred = lin_reg.predict(housing_X_train_prepared)\n",
    "housing_tree_pred = tree_reg.predict(housing_X_train_prepared)\n",
    "housing_forest_pred = forest_reg.predict(housing_X_train_prepared)\n",
    "housing_svm_pred = svm_reg_best.predict(housing_X_train_prepared)"
   ]
  },
  {
   "cell_type": "code",
   "execution_count": 63,
   "id": "8320e759",
   "metadata": {},
   "outputs": [],
   "source": [
    "r2_lin = r2_score(housing_y_train, housing_lin_pred)\n",
    "r2_tree = r2_score(housing_y_train, housing_tree_pred)\n",
    "r2_forest = r2_score(housing_y_train, housing_forest_pred)\n",
    "r2_svm = r2_score(housing_y_train, housing_svm_pred)\n",
    "\n",
    "r2_scores = (r2_lin,r2_tree,r2_forest,r2_svm)"
   ]
  },
  {
   "cell_type": "code",
   "execution_count": 64,
   "id": "874bd935",
   "metadata": {},
   "outputs": [
    {
     "name": "stdout",
     "output_type": "stream",
     "text": [
      "(0.6481553634454353, 1.0, 0.9740139626391636, 0.6320836765382409)\n"
     ]
    }
   ],
   "source": [
    "print(r2_scores)"
   ]
  },
  {
   "cell_type": "code",
   "execution_count": 65,
   "id": "c29879e2",
   "metadata": {},
   "outputs": [],
   "source": [
    "models = {\n",
    "    \"Linear Regression\": LinearRegression(),\n",
    "    \"Decision Tree\": DecisionTreeRegressor(random_state=42),\n",
    "    \"Random Forest\": RandomForestRegressor(n_estimators=100, random_state=42),\n",
    "    \"SVR\": SVR(kernel=\"linear\",C=30000)\n",
    "}\n",
    "\n",
    "model_names = list(models.keys())"
   ]
  },
  {
   "cell_type": "code",
   "execution_count": 66,
   "id": "34ef20ee",
   "metadata": {},
   "outputs": [],
   "source": [
    "import os\n",
    "PROJECT_ROOT_DIR = \".\"\n",
    "CHAPTER_ID = \"end_to_end_project\"\n",
    "IMAGES_PATH = os.path.join(PROJECT_ROOT_DIR, \"images\", CHAPTER_ID)\n",
    "os.makedirs(IMAGES_PATH, exist_ok=True)\n",
    "def save_fig(fig_id, tight_layout=True, fig_extension=\"jpg\", resolution=300):\n",
    "    path = os.path.join(IMAGES_PATH, fig_id + \".\" + fig_extension)\n",
    "    print(\"Saving figure\", fig_id)\n",
    "    if tight_layout:\n",
    "        plt.tight_layout()\n",
    "    plt.savefig(path, format=fig_extension, dpi=resolution)"
   ]
  },
  {
   "cell_type": "code",
   "execution_count": 67,
   "id": "ac5e4adc",
   "metadata": {},
   "outputs": [
    {
     "data": {
      "image/png": "[encoded data removed]",
      "text/plain": [
       "<Figure size 1000x600 with 1 Axes>"
      ]
     },
     "metadata": {},
     "output_type": "display_data"
    },
    {
     "name": "stdout",
     "output_type": "stream",
     "text": [
      "Saving figure MSE Barplot\n"
     ]
    },
    {
     "data": {
      "text/plain": [
       "<Figure size 640x480 with 0 Axes>"
      ]
     },
     "metadata": {},
     "output_type": "display_data"
    }
   ],
   "source": [
    "plt.figure(figsize=(10, 6))\n",
    "plt.bar(model_names, mse_scores, color='skyblue')\n",
    "plt.tick_params(labeltop=False, labelright=True)\n",
    "plt.xlabel('Model')\n",
    "plt.ylabel('Mean Squared Error')\n",
    "plt.title('Model Performance Comparison (MSE)')\n",
    "plt.xticks(rotation=45)\n",
    "plt.show()\n",
    "save_fig(\"MSE Barplot\")"
   ]
  },
  {
   "cell_type": "code",
   "execution_count": 68,
   "id": "dc7f4c3c",
   "metadata": {},
   "outputs": [
    {
     "data": {
      "image/png": "[encoded data removed]",
      "text/plain": [
       "<Figure size 1000x600 with 1 Axes>"
      ]
     },
     "metadata": {},
     "output_type": "display_data"
    },
    {
     "name": "stdout",
     "output_type": "stream",
     "text": [
      "Saving figure RMSE Barplot\n"
     ]
    },
    {
     "data": {
      "text/plain": [
       "<Figure size 640x480 with 0 Axes>"
      ]
     },
     "metadata": {},
     "output_type": "display_data"
    }
   ],
   "source": [
    "plt.figure(figsize=(10, 6))\n",
    "plt.bar(model_names, rmse_scores, color='skyblue')\n",
    "plt.tick_params(labeltop=False, labelright=True)\n",
    "plt.xlabel('Model')\n",
    "plt.ylabel('Root Mean Squared Error')\n",
    "plt.title('Model Performance Comparison (RMSE)')\n",
    "plt.xticks(rotation=45)\n",
    "plt.show()\n",
    "save_fig(\"RMSE Barplot\")"
   ]
  },
  {
   "cell_type": "code",
   "execution_count": 69,
   "id": "9878c58b",
   "metadata": {},
   "outputs": [
    {
     "data": {
      "image/png": "[encoded data removed]",
      "text/plain": [
       "<Figure size 1000x600 with 1 Axes>"
      ]
     },
     "metadata": {},
     "output_type": "display_data"
    },
    {
     "name": "stdout",
     "output_type": "stream",
     "text": [
      "Saving figure R² Barplot\n"
     ]
    },
    {
     "data": {
      "text/plain": [
       "<Figure size 640x480 with 0 Axes>"
      ]
     },
     "metadata": {},
     "output_type": "display_data"
    }
   ],
   "source": [
    "plt.figure(figsize=(10, 6))\n",
    "plt.bar(model_names, r2_scores, color='skyblue')\n",
    "plt.tick_params(labeltop=False, labelright=True)\n",
    "plt.xlabel('Model')\n",
    "plt.ylabel('R² Score')\n",
    "plt.title('Model Performance Comparison (R²)')\n",
    "plt.show()\n",
    "save_fig(\"R² Barplot\")"
   ]
  },
  {
   "cell_type": "code",
   "execution_count": null,
   "id": "52497339",
   "metadata": {},
   "outputs": [],
   "source": []
  }
 ],
 "metadata": {
  "kernelspec": {
   "display_name": "Python 3 (ipykernel)",
   "language": "python",
   "name": "python3"
  },
  "language_info": {
   "codemirror_mode": {
    "name": "ipython",
    "version": 3
   },
   "file_extension": ".py",
   "mimetype": "text/x-python",
   "name": "python",
   "nbconvert_exporter": "python",
   "pygments_lexer": "ipython3",
   "version": "3.10.0"
  }
 },
 "nbformat": 4,
 "nbformat_minor": 5
}
